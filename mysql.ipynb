{
 "cells": [
  {
   "cell_type": "markdown",
   "id": "c766899e-dc7d-477c-ae47-6ce4a7cf9c1a",
   "metadata": {},
   "source": [
    "ANS 1"
   ]
  },
  {
   "cell_type": "code",
   "execution_count": null,
   "id": "fbabfa73-de99-4ab5-9bae-fba5eefc79d5",
   "metadata": {},
   "outputs": [],
   "source": [
    "A database is an organized collection of structured information, or data, typically stored electronically \n",
    "in a computer system.\n",
    "SQL databases are relational, and NoSQL databases are non-relational.\n",
    "SQL databases use structured query language (SQL) and have a predefined schema. \n",
    "NoSQL databases have dynamic schemas for unstructured data.\n",
    "SQL databases are vertically scalable, while NoSQL databases are horizontally scalable."
   ]
  },
  {
   "cell_type": "markdown",
   "id": "a33d658b-89c5-4edc-8873-f82ba69b1a0b",
   "metadata": {},
   "source": [
    "ANS 2"
   ]
  },
  {
   "cell_type": "code",
   "execution_count": null,
   "id": "d296e1c1-093a-431d-bdf5-9dc3314c1dd2",
   "metadata": {},
   "outputs": [],
   "source": [
    "DDL statements are similar to a computer programming language for defining data structures,\n",
    "especially database schemas. Common examples of DDL statements include CREATE, ALTER, and DROP"
   ]
  },
  {
   "cell_type": "markdown",
   "id": "01fb27d0-5ca3-46e1-98a8-def1eaf3b47d",
   "metadata": {},
   "source": [
    "The CREATE TABLE command creates a new table in the database.\n",
    "\n",
    "The following SQL creates a table called \"Persons\" that contains five columns: PersonID, LastName, FirstName, Address, and City:\n",
    "\n",
    "ExampleGet your own SQL Server\n",
    "CREATE TABLE Persons (\n",
    "    PersonID int,\n",
    "    LastName varchar(255),\n",
    "    FirstName varchar(255),\n",
    "    Address varchar(255),\n",
    "    City varchar(255)\n",
    ");"
   ]
  },
  {
   "cell_type": "code",
   "execution_count": null,
   "id": "36ff3bc1-9602-4e37-9511-39b6c13b6579",
   "metadata": {},
   "outputs": [],
   "source": [
    "The DROP TABLE command deletes a table in the database.\n",
    "\n",
    "The following SQL deletes the table \"Shippers\":\n",
    "\n",
    "Example\n",
    "DROP TABLE Shippers;"
   ]
  },
  {
   "cell_type": "code",
   "execution_count": null,
   "id": "b3ec6837-bd38-4afb-8d7b-575a88f2fb6f",
   "metadata": {},
   "outputs": [],
   "source": [
    "The ALTER TABLE command adds, deletes, or modifies columns in a table.\n",
    "\n",
    "The ALTER TABLE command also adds and deletes various constraints in a table.\n",
    "\n",
    "The following SQL adds an \"Email\" column to the \"Customers\" table:\n",
    "\n",
    "Example\n",
    "ALTER TABLE Customers\n",
    "ADD Email varchar(255);"
   ]
  },
  {
   "cell_type": "code",
   "execution_count": null,
   "id": "1744b085-b62e-4dfc-b623-191d4dfd81e4",
   "metadata": {},
   "outputs": [],
   "source": [
    "The TRUNCATE TABLE command deletes the data inside a table, but not the table itself.\n",
    "\n",
    "The following SQL truncates the table \"Categories\": \n",
    "\n",
    "Example\n",
    "TRUNCATE TABLE Categories;\n"
   ]
  },
  {
   "cell_type": "markdown",
   "id": "8e66f536-4893-4906-8208-b2d7f52c9f6f",
   "metadata": {},
   "source": [
    "ANS 3"
   ]
  },
  {
   "cell_type": "code",
   "execution_count": null,
   "id": "a9816459-3ca4-4eef-a110-ebf8ee581e9a",
   "metadata": {},
   "outputs": [],
   "source": [
    "A data manipulation language (DML) is a family of computer languages including commands permitting\n",
    "users to manipulate data in a database. This manipulation involves inserting data into database tables, \n",
    "retrieving existing data,deleting data from existing tables and modifying existing data. DML is mostly \n",
    "incorporated in SQL databases."
   ]
  },
  {
   "cell_type": "code",
   "execution_count": null,
   "id": "1caf0153-5f3d-40e8-bd0c-d2b5f3010dd1",
   "metadata": {},
   "outputs": [],
   "source": [
    "The INSERT statement introduces new rows into an existing table.\n",
    "The DELETE statement removes a row or combination of rows from a table.\n",
    "The UPDATE statement enables users to update a row or group of rows in a table."
   ]
  },
  {
   "cell_type": "markdown",
   "id": "a6ae6e14-5a6b-494d-bcd7-de26026c1b6d",
   "metadata": {},
   "source": [
    "ANS 4"
   ]
  },
  {
   "cell_type": "markdown",
   "id": "539180c0-e51b-4233-9dec-0efb962fbe13",
   "metadata": {},
   "source": [
    "DQL or data query language is to perform the query on the data inside the schema or object (ie table, index,\n",
    "view, function, etc). With the help of a DQL query, we can get the data from the database to perform actions\n",
    "or operations like analyzing the data."
   ]
  },
  {
   "cell_type": "code",
   "execution_count": null,
   "id": "0f1000b8-c3a6-4fa3-b0ee-0732ec2e29bc",
   "metadata": {},
   "outputs": [],
   "source": [
    "A SELECT statement retrieves zero or more rows from one or more database tables or database views. In most\n",
    "applications, SELECT is the most commonly used data manipulation language (DML) command. As SQL is a declarative\n",
    "programming language,SELECT queries specify a result set, but do not specify how to calculate it."
   ]
  },
  {
   "cell_type": "markdown",
   "id": "4350efd2-5553-4e00-a9f8-db24a54264d4",
   "metadata": {},
   "source": [
    "ANS 5"
   ]
  },
  {
   "cell_type": "markdown",
   "id": "1e05e165-5b09-4376-a3af-a34e590e6722",
   "metadata": {},
   "source": [
    "A primary key is used to ensure data in the specific column is unique. A foreign key is a column or group\n",
    "of columns in a relational database table that provides a link between data in two tables. It uniquely \n",
    "identifies a record in the relational database table."
   ]
  },
  {
   "cell_type": "markdown",
   "id": "e4ce1299-abd4-4ad5-af9d-67fdb865fd13",
   "metadata": {},
   "source": [
    "ANS 6"
   ]
  },
  {
   "cell_type": "code",
   "execution_count": null,
   "id": "db964828-caf8-4d67-9d69-76a35518c066",
   "metadata": {},
   "outputs": [],
   "source": [
    "Python MySQL Connector is a Python driver that helps to integrate Python and MySQL. This Python MySQL library\n",
    "allows the conversion between Python and MySQL data types. \n",
    "MySQL Connector API is implemented using pure Python and does not require any third-party library. "
   ]
  },
  {
   "cell_type": "code",
   "execution_count": null,
   "id": "f3549a21-c5fc-42ff-8f03-74908a59876e",
   "metadata": {},
   "outputs": [],
   "source": [
    "class cursor. Allows Python code to execute PostgreSQL command in a database session. Cursors are created by\n",
    "the connection.\n",
    "cursor() method: they are bound to the connection for the entire lifetime and all the commands\n",
    "are executed in the context of the database session wrapped by the connection."
   ]
  },
  {
   "cell_type": "markdown",
   "id": "8281afb7-6c6b-4c36-9196-6520f665200d",
   "metadata": {},
   "source": [
    "ANS 7"
   ]
  },
  {
   "cell_type": "code",
   "execution_count": null,
   "id": "d30b7bb1-ed3a-46cf-b6c3-2ccf3ca3e73f",
   "metadata": {},
   "outputs": [],
   "source": [
    "Order\tClause\t    Function\n",
    "1\t     FROM\t  Tables are joined to get the base data.\n",
    "2\t     WHERE\t  The base data is filtered.\n",
    "3\t   GROUP BY \tThe filtered base data is grouped.\n",
    "4\t    HAVING\t  The grouped base data is filtered.\n",
    "5\t    SELECT\t   The final data is returned.\n",
    "6\t   ORDER BY\t  The final data is sorted.\n",
    "7\t    LIMIT\t   The returned data is limited to row count.\n"
   ]
  }
 ],
 "metadata": {
  "kernelspec": {
   "display_name": "Python 3 (ipykernel)",
   "language": "python",
   "name": "python3"
  },
  "language_info": {
   "codemirror_mode": {
    "name": "ipython",
    "version": 3
   },
   "file_extension": ".py",
   "mimetype": "text/x-python",
   "name": "python",
   "nbconvert_exporter": "python",
   "pygments_lexer": "ipython3",
   "version": "3.10.8"
  }
 },
 "nbformat": 4,
 "nbformat_minor": 5
}
